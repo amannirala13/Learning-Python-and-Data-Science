{
 "cells": [
  {
   "cell_type": "code",
   "execution_count": 1,
   "metadata": {},
   "outputs": [
    {
     "name": "stdin",
     "output_type": "stream",
     "text": [
      "Enter number 121\n"
     ]
    },
    {
     "name": "stdout",
     "output_type": "stream",
     "text": [
      "121 \n",
      "\n",
      "121 \n",
      "\n",
      "Palindrome num\n"
     ]
    }
   ],
   "source": [
    "#A program to accept a number and check if its palindrome or not\n",
    "\n",
    "n= int(input(\"Enter number\"))\n",
    "sums=0\n",
    "temp = n\n",
    "r=0\n",
    "while (n>0):\n",
    "    r=n%10\n",
    "    sums = (sums*10)+r\n",
    "    n=int(n/10)\n",
    "print(temp, \"\\n\")\n",
    "print(sums, \"\\n\")\n",
    "if temp==sums:\n",
    "    print(\"Palindrome num\")\n",
    "else:\n",
    "    print(\"No its not\")"
   ]
  }
 ],
 "metadata": {
  "kernelspec": {
   "display_name": "Python 3",
   "language": "python",
   "name": "python3"
  },
  "language_info": {
   "codemirror_mode": {
    "name": "ipython",
    "version": 3
   },
   "file_extension": ".py",
   "mimetype": "text/x-python",
   "name": "python",
   "nbconvert_exporter": "python",
   "pygments_lexer": "ipython3",
   "version": "3.7.3"
  }
 },
 "nbformat": 4,
 "nbformat_minor": 4
}
