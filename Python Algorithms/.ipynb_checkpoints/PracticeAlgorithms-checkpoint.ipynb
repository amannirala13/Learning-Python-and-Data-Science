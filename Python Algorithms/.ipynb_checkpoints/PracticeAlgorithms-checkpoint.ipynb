{
 "cells": [
  {
   "cell_type": "code",
   "execution_count": 1,
   "metadata": {},
   "outputs": [],
   "source": [
    "#importing all needed libraries\n",
    "import numpy as np\n",
    "import pandas as pd\n",
    "import matplotlib.pyplot as plt"
   ]
  },
  {
   "cell_type": "code",
   "execution_count": 2,
   "metadata": {},
   "outputs": [
    {
     "name": "stdin",
     "output_type": "stream",
     "text": [
      "Enter number 132\n"
     ]
    },
    {
     "name": "stdout",
     "output_type": "stream",
     "text": [
      "132 \n",
      "\n",
      "231 \n",
      "\n",
      "No its not\n"
     ]
    }
   ],
   "source": [
    "#A program to accept a number and check if its palindrome or not\n",
    "\n",
    "n= int(input(\"Enter number\"))\n",
    "sums=0\n",
    "temp = n\n",
    "r=0\n",
    "while (n>0):\n",
    "    r=n%10\n",
    "    sums = (sums*10)+r\n",
    "    n=int(n/10)\n",
    "print(temp, \"\\n\")\n",
    "print(sums, \"\\n\")\n",
    "if temp==sums:\n",
    "    print(\"Palindrome num\")\n",
    "else:\n",
    "    print(\"No its not\")"
   ]
  },
  {
   "cell_type": "code",
   "execution_count": 3,
   "metadata": {},
   "outputs": [
    {
     "name": "stdin",
     "output_type": "stream",
     "text": [
      "Enter amount 500\n"
     ]
    },
    {
     "name": "stdout",
     "output_type": "stream",
     "text": [
      "      0\n",
      "2000  0\n",
      "500   1\n",
      "200   0\n",
      "100   0\n",
      "50    0\n",
      "10    0\n",
      "5     0\n",
      "2     0\n",
      "1     0\n"
     ]
    },
    {
     "data": {
      "image/png": "[encoded data removed]",
      "text/plain": [
       "<Figure size 432x288 with 1 Axes>"
      ]
     },
     "metadata": {
      "needs_background": "light"
     },
     "output_type": "display_data"
    }
   ],
   "source": [
    "# A program to accept amount and divide the data to find how many units of the Indian current notes and coins we would need respectively and visualise the data with a line graph\n",
    "\n",
    "a = np.array([2000, 500, 200, 100, 50 ,10,5,2,1])\n",
    "b = np.array([0, 0, 0, 0, 0 ,0,0,0,0])\n",
    "amount = int(input(\"Enter amount\"))\n",
    "\n",
    "while (amount!=0):\n",
    "    for i in range(0,len(a)):\n",
    "        if (amount/a[i])>=1:\n",
    "            b[i]=int(amount/a[i])\n",
    "            amount = amount-(b[i]*a[i])\n",
    "print(pd.DataFrame(b, index=a))\n",
    "plt.plot(a,b)\n",
    "plt.show()"
   ]
  },
  {
   "cell_type": "code",
   "execution_count": 4,
   "metadata": {},
   "outputs": [
    {
     "name": "stdout",
     "output_type": "stream",
     "text": [
      "    *\n",
      "\n",
      "   **\n",
      "\n",
      "  ***\n",
      "\n",
      " ****\n",
      "\n",
      "*****\n",
      "\n",
      " ****\n",
      "\n",
      "  ***\n",
      "\n",
      "   **\n",
      "\n",
      "    *\n",
      "\n"
     ]
    }
   ],
   "source": [
    "\"\"\"\n",
    "A program to print the following pattern\n",
    "\n",
    "                    *\n",
    "\n",
    "                   **\n",
    "\n",
    "                  ***\n",
    "\n",
    "                 ****\n",
    "\n",
    "                *****\n",
    "\n",
    "                 ****\n",
    "\n",
    "                  ***\n",
    "\n",
    "                   **\n",
    "\n",
    "                    *\n",
    "\n",
    "\"\"\"\n",
    "\n",
    "flag=0\n",
    "k=4\n",
    "for i in range (0,9):\n",
    "    for j in range (0,5):\n",
    "        if j < k:\n",
    "            print(\" \",end=\"\")\n",
    "        else:\n",
    "            print(\"*\",end=\"\")\n",
    "    if flag == 0:\n",
    "            k=k-1\n",
    "    else:\n",
    "        k=k+1\n",
    "    if k<=0:\n",
    "        flag=1\n",
    "    print(\"\\n\")"
   ]
  }
 ],
 "metadata": {
  "kernelspec": {
   "display_name": "Python 3",
   "language": "python",
   "name": "python3"
  },
  "language_info": {
   "codemirror_mode": {
    "name": "ipython",
    "version": 3
   },
   "file_extension": ".py",
   "mimetype": "text/x-python",
   "name": "python",
   "nbconvert_exporter": "python",
   "pygments_lexer": "ipython3",
   "version": "3.7.3"
  }
 },
 "nbformat": 4,
 "nbformat_minor": 4
}
