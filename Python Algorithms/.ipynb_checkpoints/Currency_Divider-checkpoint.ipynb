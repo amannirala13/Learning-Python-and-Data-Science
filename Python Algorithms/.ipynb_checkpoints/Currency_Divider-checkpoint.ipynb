{
 "cells": [
  {
   "cell_type": "code",
   "execution_count": 1,
   "metadata": {},
   "outputs": [],
   "source": [
    "#importing all needed libraries\n",
    "import numpy as np\n",
    "import pandas as pd\n",
    "import matplotlib.pyplot as plt"
   ]
  },
  {
   "cell_type": "code",
   "execution_count": 2,
   "metadata": {},
   "outputs": [
    {
     "name": "stdin",
     "output_type": "stream",
     "text": [
      "Enter amount 200\n"
     ]
    },
    {
     "name": "stdout",
     "output_type": "stream",
     "text": [
      "      0\n",
      "2000  0\n",
      "500   0\n",
      "200   1\n",
      "100   0\n",
      "50    0\n",
      "10    0\n",
      "5     0\n",
      "2     0\n",
      "1     0\n"
     ]
    },
    {
     "data": {
      "image/png": "[encoded data removed]",
      "text/plain": [
       "<Figure size 432x288 with 1 Axes>"
      ]
     },
     "metadata": {
      "needs_background": "light"
     },
     "output_type": "display_data"
    }
   ],
   "source": [
    "# A program to accept amount and divide the data to find how many units of the Indian current notes provided in array 'a' and coins we would need respectively and visualise the data with a line graph\n",
    "\n",
    "a = np.array([2000, 500, 200, 100, 50 ,10,5,2,1])\n",
    "b = np.array([0, 0, 0, 0, 0 ,0,0,0,0])\n",
    "amount = int(input(\"Enter amount\"))\n",
    "\n",
    "while (amount!=0):\n",
    "    for i in range(0,len(a)):\n",
    "        if (amount/a[i])>=1:\n",
    "            b[i]=int(amount/a[i])\n",
    "            amount = amount-(b[i]*a[i])\n",
    "print(pd.DataFrame(b, index=a))\n",
    "plt.plot(a,b)\n",
    "plt.show()"
   ]
  }
 ],
 "metadata": {
  "kernelspec": {
   "display_name": "Python 3",
   "language": "python",
   "name": "python3"
  },
  "language_info": {
   "codemirror_mode": {
    "name": "ipython",
    "version": 3
   },
   "file_extension": ".py",
   "mimetype": "text/x-python",
   "name": "python",
   "nbconvert_exporter": "python",
   "pygments_lexer": "ipython3",
   "version": "3.7.3"
  }
 },
 "nbformat": 4,
 "nbformat_minor": 4
}
