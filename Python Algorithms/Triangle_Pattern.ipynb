{
 "cells": [
  {
   "cell_type": "code",
   "execution_count": 2,
   "metadata": {},
   "outputs": [
    {
     "name": "stdout",
     "output_type": "stream",
     "text": [
      "    *\n",
      "\n",
      "   **\n",
      "\n",
      "  ***\n",
      "\n",
      " ****\n",
      "\n",
      "*****\n",
      "\n",
      " ****\n",
      "\n",
      "  ***\n",
      "\n",
      "   **\n",
      "\n",
      "    *\n",
      "\n"
     ]
    }
   ],
   "source": [
    "\"\"\"\n",
    "A program to print the following pattern\n",
    "\n",
    "                    *\n",
    "\n",
    "                   **\n",
    "\n",
    "                  ***\n",
    "\n",
    "                 ****\n",
    "\n",
    "                *****\n",
    "\n",
    "                 ****\n",
    "\n",
    "                  ***\n",
    "\n",
    "                   **\n",
    "\n",
    "                    *\n",
    "\n",
    "\"\"\"\n",
    "\n",
    "flag=0\n",
    "k=4\n",
    "for i in range (0,9):\n",
    "    for j in range (0,5):\n",
    "        if j < k:\n",
    "            print(\" \",end=\"\")\n",
    "        else:\n",
    "            print(\"*\",end=\"\")\n",
    "    if flag == 0:\n",
    "            k=k-1\n",
    "    else:\n",
    "        k=k+1\n",
    "    if k<=0:\n",
    "        flag=1\n",
    "    print(\"\\n\")"
   ]
  },
  {
   "cell_type": "code",
   "execution_count": null,
   "metadata": {},
   "outputs": [],
   "source": []
  }
 ],
 "metadata": {
  "kernelspec": {
   "display_name": "Python 3",
   "language": "python",
   "name": "python3"
  },
  "language_info": {
   "codemirror_mode": {
    "name": "ipython",
    "version": 3
   },
   "file_extension": ".py",
   "mimetype": "text/x-python",
   "name": "python",
   "nbconvert_exporter": "python",
   "pygments_lexer": "ipython3",
   "version": "3.7.3"
  }
 },
 "nbformat": 4,
 "nbformat_minor": 4
}
